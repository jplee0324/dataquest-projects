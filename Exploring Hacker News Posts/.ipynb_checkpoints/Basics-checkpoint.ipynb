{
 "cells": [
  {
   "cell_type": "markdown",
   "metadata": {
    "collapsed": true
   },
   "source": [
    "# Data Analysis of Hacker News Website Submissions\n",
    "\n",
    "Hacker News is a site started by the startup incubator Y Combinator, where user-submitted stories (known as \"posts\") are voted and commented upon, similar to reddit. Hacker News is extremely popular in technology and startup circles, and posts that make it to the top of Hacker News' listings can get hundreds of thousands of visitors as a result.\n",
    "\n",
    "Looking at the following types of posts:\n",
    "  * `Ask HN`: Posts asking the Hacker News community a specific question\n",
    "  * `Show HN`: Posts submitted to show the community a project, product, or just generally something interesting\n",
    "  \n",
    "We determine whether or not `Ask HN` or `Show HN` posts receive more comments on average and whether or not posts created at certain times receive more comments on average"
   ]
  },
  {
   "cell_type": "code",
   "execution_count": 1,
   "metadata": {
    "collapsed": true
   },
   "outputs": [],
   "source": [
    "from csv import reader\n",
    "hn = reader(open('hacker_news.csv'))\n",
    "hn = list(hn)\n",
    "\n",
    "#Grab headers and remove from list\n",
    "headers = hn[0]\n",
    "hn = hn[1:]\n",
    "\n",
    "#Sort posts into three lists: ask, show, and other\n",
    "ask_posts = []\n",
    "show_posts = []\n",
    "other_posts = []\n",
    "\n",
    "for row in hn:\n",
    "    title = row[1].lower()\n",
    "    if title.startswith('ask hn'):\n",
    "        ask_posts.append(row)\n",
    "    elif title.startswith('show hn'):\n",
    "        show_posts.append(row)\n",
    "    else:\n",
    "        other_posts.append(row)"
   ]
  },
  {
   "cell_type": "markdown",
   "metadata": {},
   "source": [
    "### Which type of post receives more comments on average?"
   ]
  },
  {
   "cell_type": "code",
   "execution_count": 2,
   "metadata": {
    "collapsed": false
   },
   "outputs": [
    {
     "name": "stdout",
     "output_type": "stream",
     "text": [
      "14.0\n",
      "10.3\n"
     ]
    }
   ],
   "source": [
    "#Find average number of comments in ask and show posts\n",
    "def average_comments(posts):\n",
    "    total = 0\n",
    "    num_posts = len(posts)\n",
    "\n",
    "    for post in posts:\n",
    "        total += int(post[4])\n",
    "    \n",
    "    return round(total/num_posts,1)\n",
    "\n",
    "avg_ask_comments = average_comments(ask_posts)\n",
    "avg_show_comments = average_comments(show_posts)\n",
    "\n",
    "\n",
    "print(avg_ask_comments)\n",
    "print(avg_show_comments)"
   ]
  },
  {
   "cell_type": "markdown",
   "metadata": {},
   "source": [
    "In this sampling of 1744 `Ask HN` and 1162 `Show HN` posts:\n",
    "  * `Ask HN` posts had an average of **14.0** comments\n",
    "  * `Show HN` posts had an average of **10.3** comments"
   ]
  },
  {
   "cell_type": "markdown",
   "metadata": {},
   "source": [
    "### Are Ask HN or Show HN posts created certain times more likely to attract comments?"
   ]
  },
  {
   "cell_type": "code",
   "execution_count": 18,
   "metadata": {
    "collapsed": false
   },
   "outputs": [
    {
     "name": "stdout",
     "output_type": "stream",
     "text": [
      "2906\n"
     ]
    }
   ],
   "source": [
    "import datetime as dt\n",
    "\n",
    "result_list = []\n",
    "\n",
    "'''\n",
    "Add post time and total comments as a tuple into aggregate list,\n",
    "filtering out all other entries into each data point\n",
    "'''\n",
    "\n",
    "def add_to_result_list(posts):\n",
    "    for post in posts:\n",
    "        result_list.append((post[6], int(post[4])))\n",
    "        \n",
    "add_to_result_list(ask_posts)\n",
    "add_to_result_list(show_posts)\n",
    "\n",
    "counts_by_hour = {}\n",
    "comments_by_hour = {}\n",
    "\n",
    "\n",
    "\n",
    "# Add data into counts_by_hours and comments_by_hour dictionaries\n",
    "for post in result_list:\n",
    "    time, comments = post\n",
    "    dt_time = dt.datetime.strptime(time, \"%m/%d/%Y %H:%M\")\n",
    "    hour = int(dt_time.strftime(\"%H\"))\n",
    "    \n",
    "    if hour in counts_by_hour.keys():\n",
    "        counts_by_hour[hour] += 1\n",
    "        comments_by_hour[hour] += comments\n",
    "    else:\n",
    "        counts_by_hour[hour] = 1\n",
    "        comments_by_hour[hour] = comments\n",
    "\n",
    "        \n",
    "# Calculate average comments per hour\n",
    "avg_comments = []\n",
    "for i in range(24):\n",
    "    avg = round(comments_by_hour[i] / counts_by_hour[i],2)\n",
    "    avg_comments.append((i,avg))"
   ]
  },
  {
   "cell_type": "code",
   "execution_count": 15,
   "metadata": {
    "collapsed": false
   },
   "outputs": [
    {
     "name": "stdout",
     "output_type": "stream",
     "text": [
      "Top 5: Most comments by hour\n",
      "15:00:00 - 26.34 comments\n",
      "02:00:00 - 17.14 comments\n",
      "20:00:00 - 16.67 comments\n",
      "16:00:00 - 14.42 comments\n",
      "18:00:00 - 14.12 comments\n"
     ]
    }
   ],
   "source": [
    "#Print top average comments by hour\n",
    "sorted_comments = sorted(avg_comments, key = lambda x: x[1], reverse=True)\n",
    "\n",
    "print(\"Top 5: Most comments by hour\")\n",
    "base = \"{time} - {comments} comments\"\n",
    "for i in range(5):\n",
    "    print(base.format(time=dt.time(hour=sorted_comments[i][0]), comments = sorted_comments[i][1]))"
   ]
  },
  {
   "cell_type": "markdown",
   "metadata": {},
   "source": [
    "Out of the 2906 posts analyzed, we find that posts made at 3:00 P.M est received the most comments at an average of 26.34. This was a 53.68% increase over the second highest time, which was 17.14 comments at 2:00 A.M est."
   ]
  }
 ],
 "metadata": {
  "kernelspec": {
   "display_name": "Python 3",
   "language": "python",
   "name": "python3"
  },
  "language_info": {
   "codemirror_mode": {
    "name": "ipython",
    "version": 3
   },
   "file_extension": ".py",
   "mimetype": "text/x-python",
   "name": "python",
   "nbconvert_exporter": "python",
   "pygments_lexer": "ipython3",
   "version": "3.4.3"
  }
 },
 "nbformat": 4,
 "nbformat_minor": 2
}
